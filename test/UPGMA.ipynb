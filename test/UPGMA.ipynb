{
 "cells": [
  {
   "cell_type": "code",
   "execution_count": 1,
   "metadata": {},
   "outputs": [],
   "source": [
    "import numpy as np\n",
    "import glob"
   ]
  },
  {
   "cell_type": "code",
   "execution_count": 2,
   "metadata": {},
   "outputs": [
    {
     "name": "stdout",
     "output_type": "stream",
     "text": [
      "file count 3000\n",
      "129\n"
     ]
    }
   ],
   "source": [
    "import glob\n",
    "txt_files = glob.glob(\"../data/dataset-3/simulations/*.fas\")\n",
    "# print('txt_files', txt_files)\n",
    "\n",
    "char_lookup = {\n",
    "    '0' : 0,\n",
    "    '-' : 1,\n",
    "    'A' : 2,\n",
    "    'B' : 3,\n",
    "    'C' : 4,\n",
    "    'D' : 5,\n",
    "    'E' : 6,\n",
    "    'F' : 7,\n",
    "    'G' : 8,\n",
    "    'H' : 9,\n",
    "    'I' : 10,\n",
    "    'J' : 11,\n",
    "    'K' : 12,\n",
    "    'L' : 13,\n",
    "    'M' : 14,\n",
    "    'N' : 15,\n",
    "    'O' : 16,\n",
    "    'P' : 17,\n",
    "    'Q' : 18,\n",
    "    'R' : 19,\n",
    "    'S' : 20,\n",
    "    'T' : 21,\n",
    "    'U' : 22,\n",
    "    'V' : 23,\n",
    "    'W' : 24,\n",
    "    'X' : 25,\n",
    "    'Y' : 26,\n",
    "    'Z' : 27,\n",
    "    'a' : 28,\n",
    "    'b' : 29,\n",
    "    'c' : 30,\n",
    "    'd' : 31\n",
    "}\n",
    "\n",
    "print('file count ' + str(len(txt_files)))\n",
    "\n",
    "# lines is a list of our parsed data that we later turn into a tensor\n",
    "lines = []\n",
    "\n",
    "# count of examples parsed\n",
    "cnt = 1\n",
    "\n",
    "# currently only taking cells from 15 trees\n",
    "for filepath in txt_files:\n",
    "  with open(filepath) as fp:\n",
    "    line = fp.readline()\n",
    "    while line:\n",
    "      # print(\"Line {}: {}\".format(cnt, line.strip()))\n",
    "      cell_state = line.split()\n",
    "      encoded = []\n",
    "      if (len(cell_state) > 1):\n",
    "        for c in cell_state[-1]:\n",
    "          if c in char_lookup:\n",
    "            encoded.append(char_lookup[c] / 31)   \n",
    "          else:\n",
    "            encoded.append(.5)    \n",
    "        lines.append(encoded)\n",
    "        cnt += 1\n",
    "      line = fp.readline()\n",
    "    break\n",
    "print(cnt)"
   ]
  },
  {
   "cell_type": "code",
   "execution_count": 3,
   "metadata": {},
   "outputs": [
    {
     "data": {
      "text/plain": [
       "(128, 200)"
      ]
     },
     "execution_count": 3,
     "metadata": {},
     "output_type": "execute_result"
    }
   ],
   "source": [
    "DATA = np.asarray(lines)\n",
    "DATA.shape"
   ]
  },
  {
   "cell_type": "code",
   "execution_count": 20,
   "metadata": {},
   "outputs": [],
   "source": [
    "np.savetxt(\"../data/dataset-3/simulations/07div_200_targets_30_states_0378rep_FAST_0077seed.vec\", DATA, delimiter=\",\")"
   ]
  },
  {
   "cell_type": "code",
   "execution_count": 16,
   "metadata": {},
   "outputs": [
    {
     "data": {
      "text/plain": [
       "'../data/dataset-3/simulations/07div_200_targets_30_states_0378rep_FAST_0077seed.fas'"
      ]
     },
     "execution_count": 16,
     "metadata": {},
     "output_type": "execute_result"
    }
   ],
   "source": [
    "filepath"
   ]
  },
  {
   "cell_type": "code",
   "execution_count": 18,
   "metadata": {},
   "outputs": [],
   "source": [
    "from sklearn.metrics.pairwise import euclidean_distances\n",
    "dm = euclidean_distances(DATA, DATA)\n",
    "np.savetxt(\"../data/dataset-3/simulations/07div_200_targets_30_states_0378rep_FAST_0077seed.dm\", dm, delimiter=\",\")"
   ]
  },
  {
   "cell_type": "code",
   "execution_count": 15,
   "metadata": {},
   "outputs": [
    {
     "ename": "NameError",
     "evalue": "name 'DistanceMatrix' is not defined",
     "output_type": "error",
     "traceback": [
      "\u001b[0;31m---------------------------------------------------------------------------\u001b[0m",
      "\u001b[0;31mNameError\u001b[0m                                 Traceback (most recent call last)",
      "\u001b[0;32m<ipython-input-15-e9e2a7b1201f>\u001b[0m in \u001b[0;36m<module>\u001b[0;34m\u001b[0m\n\u001b[1;32m      1\u001b[0m \u001b[0;32mfrom\u001b[0m \u001b[0mBio\u001b[0m\u001b[0;34m.\u001b[0m\u001b[0mPhylo\u001b[0m\u001b[0;34m.\u001b[0m\u001b[0mTreeConstruction\u001b[0m \u001b[0;32mimport\u001b[0m \u001b[0mDistanceCalculator\u001b[0m\u001b[0;34m,\u001b[0m \u001b[0mDistanceTreeConstructor\u001b[0m\u001b[0;34m\u001b[0m\u001b[0;34m\u001b[0m\u001b[0m\n\u001b[1;32m      2\u001b[0m \u001b[0mconstructor\u001b[0m \u001b[0;34m=\u001b[0m \u001b[0mDistanceTreeConstructor\u001b[0m\u001b[0;34m(\u001b[0m\u001b[0;34m)\u001b[0m\u001b[0;34m\u001b[0m\u001b[0;34m\u001b[0m\u001b[0m\n\u001b[0;32m----> 3\u001b[0;31m \u001b[0mdm_1\u001b[0m \u001b[0;34m=\u001b[0m \u001b[0mDistanceMatrix\u001b[0m\u001b[0;34m(\u001b[0m\u001b[0mnames\u001b[0m\u001b[0;34m=\u001b[0m\u001b[0;34m[\u001b[0m\u001b[0mi\u001b[0m \u001b[0;32mfor\u001b[0m \u001b[0mi\u001b[0m \u001b[0;32min\u001b[0m \u001b[0mrange\u001b[0m\u001b[0;34m(\u001b[0m\u001b[0;36m128\u001b[0m\u001b[0;34m)\u001b[0m\u001b[0;34m]\u001b[0m\u001b[0;34m,\u001b[0m \u001b[0mmatrix\u001b[0m\u001b[0;34m=\u001b[0m\u001b[0mdm\u001b[0m\u001b[0;34m)\u001b[0m\u001b[0;34m\u001b[0m\u001b[0;34m\u001b[0m\u001b[0m\n\u001b[0m\u001b[1;32m      4\u001b[0m \u001b[0mtree\u001b[0m \u001b[0;34m=\u001b[0m \u001b[0mconstructor\u001b[0m\u001b[0;34m.\u001b[0m\u001b[0mupgma\u001b[0m\u001b[0;34m(\u001b[0m\u001b[0mdm_1\u001b[0m\u001b[0;34m)\u001b[0m\u001b[0;34m\u001b[0m\u001b[0;34m\u001b[0m\u001b[0m\n",
      "\u001b[0;31mNameError\u001b[0m: name 'DistanceMatrix' is not defined"
     ]
    }
   ],
   "source": [
    "from Bio.Phylo.TreeConstruction import DistanceCalculator, DistanceTreeConstructor\n",
    "constructor = DistanceTreeConstructor()\n",
    "dm_1 = DistanceMatrix(names=[i for i in range(128)], matrix=dm)\n",
    "tree = constructor.upgma(dm_1)"
   ]
  }
 ],
 "metadata": {
  "kernelspec": {
   "display_name": "Python 3",
   "language": "python",
   "name": "python3"
  },
  "language_info": {
   "codemirror_mode": {
    "name": "ipython",
    "version": 3
   },
   "file_extension": ".py",
   "mimetype": "text/x-python",
   "name": "python",
   "nbconvert_exporter": "python",
   "pygments_lexer": "ipython3",
   "version": "3.7.3"
  }
 },
 "nbformat": 4,
 "nbformat_minor": 4
}
